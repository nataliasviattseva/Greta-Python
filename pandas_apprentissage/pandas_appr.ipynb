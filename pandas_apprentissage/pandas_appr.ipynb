{
 "cells": [
  {
   "cell_type": "code",
   "execution_count": 1,
   "id": "476dc20d",
   "metadata": {},
   "outputs": [
    {
     "name": "stdout",
     "output_type": "stream",
     "text": [
      "Requirement already satisfied: pandas in c:\\users\\user\\appdata\\local\\programs\\python\\python39\\lib\\site-packages (1.5.3)\n",
      "Requirement already satisfied: python-dateutil>=2.8.1 in c:\\users\\user\\appdata\\local\\programs\\python\\python39\\lib\\site-packages (from pandas) (2.8.2)\n",
      "Requirement already satisfied: pytz>=2020.1 in c:\\users\\user\\appdata\\local\\programs\\python\\python39\\lib\\site-packages (from pandas) (2022.7.1)\n",
      "Requirement already satisfied: numpy>=1.20.3 in c:\\users\\user\\appdata\\local\\programs\\python\\python39\\lib\\site-packages (from pandas) (1.24.2)\n",
      "Requirement already satisfied: six>=1.5 in c:\\users\\user\\appdata\\local\\programs\\python\\python39\\lib\\site-packages (from python-dateutil>=2.8.1->pandas) (1.16.0)\n"
     ]
    }
   ],
   "source": [
    "!pip install pandas"
   ]
  },
  {
   "cell_type": "code",
   "execution_count": 2,
   "id": "ec43f507",
   "metadata": {},
   "outputs": [],
   "source": [
    "import pandas"
   ]
  },
  {
   "cell_type": "code",
   "execution_count": 3,
   "id": "5fe43d81",
   "metadata": {},
   "outputs": [
    {
     "name": "stdout",
     "output_type": "stream",
     "text": [
      "1.5.3\n"
     ]
    }
   ],
   "source": [
    "print(pandas.__version__)  # verifier la version"
   ]
  },
  {
   "cell_type": "code",
   "execution_count": 4,
   "id": "a301a77c",
   "metadata": {},
   "outputs": [],
   "source": [
    "df = pandas.read_csv(\"heart.txt\", sep='\\t', header=0)  # lecture de fichier du tableau"
   ]
  },
  {
   "cell_type": "code",
   "execution_count": 5,
   "id": "879d9b31",
   "metadata": {},
   "outputs": [
    {
     "name": "stdout",
     "output_type": "stream",
     "text": [
      "(270, 13)\n"
     ]
    }
   ],
   "source": [
    "print(df.shape)  # dimensions"
   ]
  },
  {
   "cell_type": "code",
   "execution_count": 6,
   "id": "92812645",
   "metadata": {},
   "outputs": [
    {
     "name": "stdout",
     "output_type": "stream",
     "text": [
      "    age      sexe type_douleur  pression  cholester sucre electro  taux_max  \\\n",
      "0    70  masculin            D       130        322     A       C       109   \n",
      "1    67   feminin            C       115        564     A       C       160   \n",
      "2    57  masculin            B       124        261     A       A       141   \n",
      "3    64  masculin            D       128        263     A       A       105   \n",
      "4    74   feminin            B       120        269     A       C       121   \n",
      "..  ...       ...          ...       ...        ...   ...     ...       ...   \n",
      "95   47  masculin            D       110        275     A       C       118   \n",
      "96   66  masculin            D       120        302     A       C       151   \n",
      "97   58  masculin            D       100        234     A       A       156   \n",
      "98   64   feminin            C       140        313     A       A       133   \n",
      "99   50   feminin            B       120        244     A       A       162   \n",
      "\n",
      "   angine  depression  pic vaisseau     coeur  \n",
      "0     non          24    2        D  presence  \n",
      "1     non          16    2        A   absence  \n",
      "2     non           3    1        A  presence  \n",
      "3     oui           2    2        B   absence  \n",
      "4     oui           2    1        B   absence  \n",
      "..    ...         ...  ...      ...       ...  \n",
      "95    oui          10    2        B  presence  \n",
      "96    non           4    2        A   absence  \n",
      "97    non           1    1        B  presence  \n",
      "98    non           2    1        A   absence  \n",
      "99    non          11    1        A   absence  \n",
      "\n",
      "[100 rows x 13 columns]\n"
     ]
    }
   ],
   "source": [
    "print(df.head(100))  # nombre de lignes a afficher"
   ]
  },
  {
   "cell_type": "code",
   "execution_count": 7,
   "id": "570d37cb",
   "metadata": {},
   "outputs": [
    {
     "name": "stdout",
     "output_type": "stream",
     "text": [
      "Index(['age', 'sexe', 'type_douleur', 'pression', 'cholester', 'sucre',\n",
      "       'electro', 'taux_max', 'angine', 'depression', 'pic', 'vaisseau',\n",
      "       'coeur'],\n",
      "      dtype='object')\n"
     ]
    }
   ],
   "source": [
    "print(df.columns)"
   ]
  },
  {
   "cell_type": "code",
   "execution_count": 8,
   "id": "43c0453f",
   "metadata": {},
   "outputs": [
    {
     "name": "stdout",
     "output_type": "stream",
     "text": [
      "age              int64\n",
      "sexe            object\n",
      "type_douleur    object\n",
      "pression         int64\n",
      "cholester        int64\n",
      "sucre           object\n",
      "electro         object\n",
      "taux_max         int64\n",
      "angine          object\n",
      "depression       int64\n",
      "pic              int64\n",
      "vaisseau        object\n",
      "coeur           object\n",
      "dtype: object\n"
     ]
    }
   ],
   "source": [
    "print(df.dtypes)"
   ]
  },
  {
   "cell_type": "code",
   "execution_count": 9,
   "id": "0f9109f0",
   "metadata": {},
   "outputs": [
    {
     "name": "stdout",
     "output_type": "stream",
     "text": [
      "<class 'pandas.core.frame.DataFrame'>\n",
      "RangeIndex: 270 entries, 0 to 269\n",
      "Data columns (total 13 columns):\n",
      " #   Column        Non-Null Count  Dtype \n",
      "---  ------        --------------  ----- \n",
      " 0   age           270 non-null    int64 \n",
      " 1   sexe          270 non-null    object\n",
      " 2   type_douleur  270 non-null    object\n",
      " 3   pression      270 non-null    int64 \n",
      " 4   cholester     270 non-null    int64 \n",
      " 5   sucre         270 non-null    object\n",
      " 6   electro       270 non-null    object\n",
      " 7   taux_max      270 non-null    int64 \n",
      " 8   angine        270 non-null    object\n",
      " 9   depression    270 non-null    int64 \n",
      " 10  pic           270 non-null    int64 \n",
      " 11  vaisseau      270 non-null    object\n",
      " 12  coeur         270 non-null    object\n",
      "dtypes: int64(6), object(7)\n",
      "memory usage: 27.5+ KB\n",
      "None\n"
     ]
    }
   ],
   "source": [
    "print(df.info())"
   ]
  },
  {
   "cell_type": "code",
   "execution_count": 10,
   "id": "16858e4c",
   "metadata": {},
   "outputs": [
    {
     "name": "stdout",
     "output_type": "stream",
     "text": [
      "               age      sexe type_douleur    pression   cholester sucre  \\\n",
      "count   270.000000       270          270  270.000000  270.000000   270   \n",
      "unique         NaN         2            4         NaN         NaN     2   \n",
      "top            NaN  masculin            D         NaN         NaN     A   \n",
      "freq           NaN       183          129         NaN         NaN   230   \n",
      "mean     54.433333       NaN          NaN  131.344444  249.659259   NaN   \n",
      "std       9.109067       NaN          NaN   17.861608   51.686237   NaN   \n",
      "min      29.000000       NaN          NaN   94.000000  126.000000   NaN   \n",
      "25%      48.000000       NaN          NaN  120.000000  213.000000   NaN   \n",
      "50%      55.000000       NaN          NaN  130.000000  245.000000   NaN   \n",
      "75%      61.000000       NaN          NaN  140.000000  280.000000   NaN   \n",
      "max      77.000000       NaN          NaN  200.000000  564.000000   NaN   \n",
      "\n",
      "       electro    taux_max angine  depression         pic vaisseau    coeur  \n",
      "count      270  270.000000    270  270.000000  270.000000      270      270  \n",
      "unique       3         NaN      2         NaN         NaN        4        2  \n",
      "top          C         NaN    non         NaN         NaN        A  absence  \n",
      "freq       137         NaN    181         NaN         NaN      160      150  \n",
      "mean       NaN  149.677778    NaN   10.500000    1.585185      NaN      NaN  \n",
      "std        NaN   23.165717    NaN   11.452098    0.614390      NaN      NaN  \n",
      "min        NaN   71.000000    NaN    0.000000    1.000000      NaN      NaN  \n",
      "25%        NaN  133.000000    NaN    0.000000    1.000000      NaN      NaN  \n",
      "50%        NaN  153.500000    NaN    8.000000    2.000000      NaN      NaN  \n",
      "75%        NaN  166.000000    NaN   16.000000    2.000000      NaN      NaN  \n",
      "max        NaN  202.000000    NaN   62.000000    3.000000      NaN      NaN  \n"
     ]
    }
   ],
   "source": [
    "# description des données\n",
    "print(df.describe(include='all'))"
   ]
  },
  {
   "cell_type": "code",
   "execution_count": 11,
   "id": "1ca3176d",
   "metadata": {},
   "outputs": [
    {
     "name": "stdout",
     "output_type": "stream",
     "text": [
      "0      masculin\n",
      "1       feminin\n",
      "2      masculin\n",
      "3      masculin\n",
      "4       feminin\n",
      "         ...   \n",
      "265    masculin\n",
      "266    masculin\n",
      "267     feminin\n",
      "268    masculin\n",
      "269    masculin\n",
      "Name: sexe, Length: 270, dtype: object\n"
     ]
    }
   ],
   "source": [
    "# accés à une colonne\n",
    "print(df['sexe'])"
   ]
  },
  {
   "cell_type": "code",
   "execution_count": 12,
   "id": "021686c4",
   "metadata": {},
   "outputs": [
    {
     "name": "stdout",
     "output_type": "stream",
     "text": [
      "         sexe sucre\n",
      "0    masculin     A\n",
      "1     feminin     A\n",
      "2    masculin     A\n",
      "3    masculin     A\n",
      "4     feminin     A\n",
      "..        ...   ...\n",
      "265  masculin     B\n",
      "266  masculin     A\n",
      "267   feminin     A\n",
      "268  masculin     A\n",
      "269  masculin     A\n",
      "\n",
      "[270 rows x 2 columns]\n"
     ]
    }
   ],
   "source": [
    "# accéder à un ensemble de colonnes\n",
    "print(df[['sexe', 'sucre']])"
   ]
  },
  {
   "cell_type": "code",
   "execution_count": 13,
   "id": "91ece1a2",
   "metadata": {},
   "outputs": [
    {
     "name": "stdout",
     "output_type": "stream",
     "text": [
      "0      masculin\n",
      "1       feminin\n",
      "2      masculin\n",
      "3      masculin\n",
      "4       feminin\n",
      "         ...   \n",
      "265    masculin\n",
      "266    masculin\n",
      "267     feminin\n",
      "268    masculin\n",
      "269    masculin\n",
      "Name: sexe, Length: 270, dtype: object\n"
     ]
    }
   ],
   "source": [
    "# autre manière d'accéder à une colonne avec le .\n",
    "# sous R nous utiliserions le $\n",
    "print(df.sexe)"
   ]
  },
  {
   "cell_type": "code",
   "execution_count": 14,
   "id": "8a2b72cb",
   "metadata": {},
   "outputs": [
    {
     "name": "stdout",
     "output_type": "stream",
     "text": [
      "0    70\n",
      "1    67\n",
      "2    57\n",
      "3    64\n",
      "4    74\n",
      "Name: age, dtype: int64\n"
     ]
    }
   ],
   "source": [
    "# une colonne estun vecteur (Series en terminologie Pandas)\n",
    "# affichage des premières valeurs\n",
    "print(df['age'].head())"
   ]
  },
  {
   "cell_type": "code",
   "execution_count": 15,
   "id": "fd8ce0b3",
   "metadata": {},
   "outputs": [
    {
     "name": "stdout",
     "output_type": "stream",
     "text": [
      "265    52\n",
      "266    44\n",
      "267    56\n",
      "268    57\n",
      "269    67\n",
      "Name: age, dtype: int64\n"
     ]
    }
   ],
   "source": [
    "# affichage des dernières valeurs\n",
    "print(df['age'].tail())"
   ]
  },
  {
   "cell_type": "code",
   "execution_count": 16,
   "id": "d8a164e5",
   "metadata": {},
   "outputs": [
    {
     "name": "stdout",
     "output_type": "stream",
     "text": [
      "count    270.000000\n",
      "mean      54.433333\n",
      "std        9.109067\n",
      "min       29.000000\n",
      "25%       48.000000\n",
      "50%       55.000000\n",
      "75%       61.000000\n",
      "max       77.000000\n",
      "Name: age, dtype: float64\n"
     ]
    }
   ],
   "source": [
    "# statistique descriptive\n",
    "print(df['age'].describe())"
   ]
  },
  {
   "cell_type": "code",
   "execution_count": 17,
   "id": "1cd5229c",
   "metadata": {},
   "outputs": [
    {
     "name": "stdout",
     "output_type": "stream",
     "text": [
      "54.43333333333333\n"
     ]
    }
   ],
   "source": [
    "# calculerexplicitement la moyenne\n",
    "print(df['age'].mean())"
   ]
  },
  {
   "cell_type": "code",
   "execution_count": 18,
   "id": "24d0315e",
   "metadata": {},
   "outputs": [
    {
     "name": "stdout",
     "output_type": "stream",
     "text": [
      "D    129\n",
      "C     79\n",
      "B     42\n",
      "A     20\n",
      "Name: type_douleur, dtype: int64\n"
     ]
    }
   ],
   "source": [
    "# comptage des valeurs\n",
    "print(df['type_douleur'].value_counts())"
   ]
  },
  {
   "cell_type": "code",
   "execution_count": 19,
   "id": "47eeffc7",
   "metadata": {},
   "outputs": [
    {
     "name": "stdout",
     "output_type": "stream",
     "text": [
      "70\n"
     ]
    }
   ],
   "source": [
    "# un type Series est un vecteur, il est possible d'utiliser des indices première valeur\n",
    "print(df['age'][0])"
   ]
  },
  {
   "cell_type": "code",
   "execution_count": 20,
   "id": "eb4f66ff",
   "metadata": {},
   "outputs": [
    {
     "name": "stdout",
     "output_type": "stream",
     "text": [
      "0    70\n",
      "1    67\n",
      "2    57\n",
      "Name: age, dtype: int64\n"
     ]
    }
   ],
   "source": [
    "# 3 premières valeurs\n",
    "print(df['age'][0:3])"
   ]
  },
  {
   "cell_type": "code",
   "execution_count": 21,
   "id": "bbb9a92e",
   "metadata": {},
   "outputs": [
    {
     "name": "stdout",
     "output_type": "stream",
     "text": [
      "214    29\n",
      "174    34\n",
      "138    34\n",
      "224    35\n",
      "81     35\n",
      "       ..\n",
      "15     71\n",
      "255    71\n",
      "4      74\n",
      "73     76\n",
      "199    77\n",
      "Name: age, Length: 270, dtype: int64\n"
     ]
    }
   ],
   "source": [
    "# trier les valeurs d'une variable de manière croissante\n",
    "print(df['age'].sort_values())"
   ]
  },
  {
   "cell_type": "code",
   "execution_count": 22,
   "id": "ef427a74",
   "metadata": {},
   "outputs": [
    {
     "name": "stdout",
     "output_type": "stream",
     "text": [
      "0      214\n",
      "1      174\n",
      "2      138\n",
      "3      224\n",
      "4       81\n",
      "      ... \n",
      "265     15\n",
      "266    255\n",
      "267      4\n",
      "268     73\n",
      "269    199\n",
      "Name: age, Length: 270, dtype: int64\n"
     ]
    }
   ],
   "source": [
    "# nous pouvons aussi obtenir les indices des valeurs triées\n",
    "print( df['age'].argsort())"
   ]
  },
  {
   "cell_type": "code",
   "execution_count": 23,
   "id": "745b144f",
   "metadata": {},
   "outputs": [
    {
     "name": "stdout",
     "output_type": "stream",
     "text": [
      "<bound method NDFrame.head of      age      sexe type_douleur  pression  cholester sucre electro  taux_max  \\\n",
      "214   29  masculin            B       130        204     A       C       202   \n",
      "174   34  masculin            A       118        182     A       C       174   \n",
      "138   34   feminin            B       118        210     A       A       192   \n",
      "224   35   feminin            D       138        183     A       A       182   \n",
      "81    35  masculin            D       120        198     A       A       130   \n",
      "..   ...       ...          ...       ...        ...   ...     ...       ...   \n",
      "15    71   feminin            D       112        149     A       A       125   \n",
      "255   71   feminin            B       160        302     A       A       162   \n",
      "4     74   feminin            B       120        269     A       C       121   \n",
      "73    76   feminin            C       140        197     A       B       116   \n",
      "199   77  masculin            D       125        304     A       C       162   \n",
      "\n",
      "    angine  depression  pic vaisseau     coeur  \n",
      "214    non           0    1        A   absence  \n",
      "174    non           0    1        A   absence  \n",
      "138    non           7    1        A   absence  \n",
      "224    non          14    1        A   absence  \n",
      "81     oui          16    2        A  presence  \n",
      "..     ...         ...  ...      ...       ...  \n",
      "15     non          16    2        A   absence  \n",
      "255    non           4    1        C   absence  \n",
      "4      oui           2    1        B   absence  \n",
      "73     non          11    2        A   absence  \n",
      "199    oui           0    1        D  presence  \n",
      "\n",
      "[270 rows x 13 columns]>\n"
     ]
    }
   ],
   "source": [
    "# le tri peut être généralisé aux DataFrame\n",
    "# par exemple : trier le tableau de données selon l'âge\n",
    "# puis affichage des premières lignes avec head()\n",
    "print(df.sort_values(by='age').head)"
   ]
  },
  {
   "cell_type": "code",
   "execution_count": 24,
   "id": "5a1ccfd9",
   "metadata": {},
   "outputs": [
    {
     "name": "stdout",
     "output_type": "stream",
     "text": [
      "age : int64\n",
      "sexe : object\n",
      "type_douleur : object\n",
      "pression : int64\n",
      "cholester : int64\n",
      "sucre : object\n",
      "electro : object\n",
      "taux_max : int64\n",
      "angine : object\n",
      "depression : int64\n",
      "pic : int64\n",
      "vaisseau : object\n",
      "coeur : object\n",
      "Index(['age', 'sexe', 'type_douleur', 'pression', 'cholester', 'sucre',\n",
      "       'electro', 'taux_max', 'angine', 'depression', 'pic', 'vaisseau',\n",
      "       'coeur'],\n",
      "      dtype='object')\n"
     ]
    }
   ],
   "source": [
    "# boucler sur l'ensemble des colonnes\n",
    "for col in df.columns:\n",
    "    print(f\"{col} :\", df[col].dtype)\n",
    "\n",
    "print(df.columns)"
   ]
  },
  {
   "cell_type": "code",
   "execution_count": 25,
   "id": "a128bdea",
   "metadata": {},
   "outputs": [],
   "source": [
    "# passage par la librairie numpy - pour calculer de moyennes\n",
    "import numpy"
   ]
  },
  {
   "cell_type": "code",
   "execution_count": 26,
   "id": "9999192a",
   "metadata": {},
   "outputs": [
    {
     "name": "stdout",
     "output_type": "stream",
     "text": [
      "age            54.433333\n",
      "pression      131.344444\n",
      "cholester     249.659259\n",
      "taux_max      149.677778\n",
      "depression     10.500000\n",
      "pic             1.585185\n",
      "dtype: float64\n"
     ]
    }
   ],
   "source": [
    "# fonction call back\n",
    "def operation(x):\n",
    "    return(x.mean())\n",
    "\n",
    "# appel de la fonction sur l'ensemble des colonnes du DataFrame\n",
    "# axis = 0 ==> chaque colonne sera transmise à la fonction operation()\n",
    "# la selection select_dtypes() permet d'exclure les variables non numériques\n",
    "resultat = df.select_dtypes(exclude=['object']).apply(operation, axis=0)\n",
    "print(resultat)"
   ]
  },
  {
   "cell_type": "code",
   "execution_count": 27,
   "id": "18534330",
   "metadata": {},
   "outputs": [
    {
     "name": "stdout",
     "output_type": "stream",
     "text": [
      "70\n"
     ]
    }
   ],
   "source": [
    "# accès à la valeur située en (0,0)\n",
    "print(df.iloc[0, 0])"
   ]
  },
  {
   "cell_type": "code",
   "execution_count": 28,
   "id": "a4c2a397",
   "metadata": {},
   "outputs": [
    {
     "name": "stdout",
     "output_type": "stream",
     "text": [
      "65\n"
     ]
    }
   ],
   "source": [
    "print(df.iloc[5, 0])"
   ]
  },
  {
   "cell_type": "code",
   "execution_count": 29,
   "id": "db19222c",
   "metadata": {},
   "outputs": [
    {
     "name": "stdout",
     "output_type": "stream",
     "text": [
      "67\n"
     ]
    }
   ],
   "source": [
    "# valeur située en dernière ligne, première colonne\n",
    "# utilisation de l'indiçafe négatif\n",
    "print(df.iloc[-1, 0])"
   ]
  },
  {
   "cell_type": "code",
   "execution_count": 30,
   "id": "59c1ffe1",
   "metadata": {},
   "outputs": [
    {
     "name": "stdout",
     "output_type": "stream",
     "text": [
      "2\n"
     ]
    }
   ],
   "source": [
    "print(df.iloc[-1, -3])"
   ]
  },
  {
   "cell_type": "code",
   "execution_count": 31,
   "id": "aff039ae",
   "metadata": {},
   "outputs": [
    {
     "name": "stdout",
     "output_type": "stream",
     "text": [
      "67\n"
     ]
    }
   ],
   "source": [
    "# valeur située en dernière ligne, première colonne\n",
    "# shape[0] renvoie le nombre de lignes (première dimensio)\n",
    "# il faut réduire de -1 parce le premiere indice est egal à 0\n",
    "# sinon on déborde\n",
    "print(df.iloc[df.shape[0]-1, 0])"
   ]
  },
  {
   "cell_type": "code",
   "execution_count": 32,
   "id": "8acaf8f1",
   "metadata": {},
   "outputs": [
    {
     "name": "stdout",
     "output_type": "stream",
     "text": [
      "   age      sexe type_douleur  pression  cholester sucre electro  taux_max  \\\n",
      "0   70  masculin            D       130        322     A       C       109   \n",
      "1   67   feminin            C       115        564     A       C       160   \n",
      "2   57  masculin            B       124        261     A       A       141   \n",
      "3   64  masculin            D       128        263     A       A       105   \n",
      "4   74   feminin            B       120        269     A       C       121   \n",
      "\n",
      "  angine  depression  pic vaisseau     coeur  \n",
      "0    non          24    2        D  presence  \n",
      "1    non          16    2        A   absence  \n",
      "2    non           3    1        A  presence  \n",
      "3    oui           2    2        B   absence  \n",
      "4    oui           2    1        B   absence  \n"
     ]
    }
   ],
   "source": [
    "# 5 premières valeurs de touts les colonnes\n",
    "# lignes => 0:5 (0 à 5 [non inclus])\n",
    "# colonnes = : (toutes les colonnes)\n",
    "print(df.iloc[0:5, :])"
   ]
  },
  {
   "cell_type": "code",
   "execution_count": 33,
   "id": "6e997232",
   "metadata": {},
   "outputs": [
    {
     "name": "stdout",
     "output_type": "stream",
     "text": [
      "     age      sexe type_douleur  pression  cholester sucre electro  taux_max  \\\n",
      "265   52  masculin            C       172        199     B       A       162   \n",
      "266   44  masculin            B       120        263     A       A       173   \n",
      "267   56   feminin            B       140        294     A       C       153   \n",
      "268   57  masculin            D       140        192     A       A       148   \n",
      "269   67  masculin            D       160        286     A       C       108   \n",
      "\n",
      "    angine  depression  pic vaisseau     coeur  \n",
      "265    non           5    1        A   absence  \n",
      "266    non           0    1        A   absence  \n",
      "267    non          13    2        A   absence  \n",
      "268    non           4    2        A   absence  \n",
      "269    oui          15    2        D  presence  \n"
     ]
    }
   ],
   "source": [
    "# avec l'indiçage hégatif, on peut facilement accéder aux 5 dernières lignes\n",
    "print(df.iloc[-5:, :])"
   ]
  },
  {
   "cell_type": "code",
   "execution_count": 34,
   "id": "62576cd4",
   "metadata": {},
   "outputs": [
    {
     "name": "stdout",
     "output_type": "stream",
     "text": [
      "   age      sexe\n",
      "0   70  masculin\n",
      "1   67   feminin\n",
      "2   57  masculin\n",
      "3   64  masculin\n",
      "4   74   feminin\n"
     ]
    }
   ],
   "source": [
    "# 5 premières lignes et deux premières colonnes\n",
    "print(df.iloc[0:5:, 0:2])"
   ]
  },
  {
   "cell_type": "code",
   "execution_count": 35,
   "id": "aa93b99d",
   "metadata": {},
   "outputs": [
    {
     "name": "stdout",
     "output_type": "stream",
     "text": [
      "   age type_douleur  cholester\n",
      "0   70            D        322\n",
      "1   67            C        564\n",
      "2   57            B        261\n",
      "3   64            D        263\n",
      "4   74            B        269\n"
     ]
    }
   ],
   "source": [
    "# 5 premières lignes et colonnes 0, 1 et 4\n",
    "# on a une liste d'indices en colonne\n",
    "print(df.iloc[0:5:, [0, 2, 4]])"
   ]
  },
  {
   "cell_type": "code",
   "execution_count": 36,
   "id": "fd92ccc0",
   "metadata": {},
   "outputs": [
    {
     "name": "stdout",
     "output_type": "stream",
     "text": [
      "   age type_douleur  cholester\n",
      "0   70            D        322\n",
      "1   67            C        564\n",
      "2   57            B        261\n",
      "3   64            D        263\n",
      "4   74            B        269\n"
     ]
    }
   ],
   "source": [
    "# ou encore, pour exactement la même chose\n",
    "# remarquez le rôle de 2 dans 0:5:2\n",
    "print(df.iloc[0:5:, 0:5:2])"
   ]
  },
  {
   "cell_type": "code",
   "execution_count": 37,
   "id": "f751be85",
   "metadata": {},
   "outputs": [
    {
     "name": "stdout",
     "output_type": "stream",
     "text": [
      "     age      sexe type_douleur  pression  cholester sucre electro  taux_max  \\\n",
      "13    61  masculin            A       134        234     A       A       145   \n",
      "18    64  masculin            A       110        211     A       C       144   \n",
      "19    40  masculin            A       140        199     A       A       178   \n",
      "37    59  masculin            A       160        273     A       C       125   \n",
      "63    60   feminin            A       150        240     A       A       171   \n",
      "64    63  masculin            A       145        233     B       C       150   \n",
      "85    42  masculin            A       148        244     A       C       178   \n",
      "87    59  masculin            A       178        270     A       C       145   \n",
      "118   66   feminin            A       150        226     A       A       114   \n",
      "143   51  masculin            A       125        213     A       C       125   \n",
      "158   56  masculin            A       120        193     A       C       162   \n",
      "160   38  masculin            A       120        231     A       A       182   \n",
      "169   65  masculin            A       138        282     B       C       174   \n",
      "170   69  masculin            A       160        234     B       C       131   \n",
      "174   34  masculin            A       118        182     A       C       174   \n",
      "198   69   feminin            A       140        239     A       A       151   \n",
      "205   52  masculin            A       152        298     B       A       178   \n",
      "210   59  masculin            A       170        288     A       C       159   \n",
      "228   58   feminin            A       150        283     B       C       162   \n",
      "229   52  masculin            A       118        186     A       C       190   \n",
      "\n",
      "    angine  depression  pic vaisseau     coeur  \n",
      "13     non          26    2        C  presence  \n",
      "18     oui          18    2        A   absence  \n",
      "19     oui          14    1        A   absence  \n",
      "37     non           0    1        A  presence  \n",
      "63     non           9    1        A   absence  \n",
      "64     non          23    3        A   absence  \n",
      "85     non           8    1        C   absence  \n",
      "87     non          42    3        A   absence  \n",
      "118    non          26    3        A   absence  \n",
      "143    oui          14    1        B   absence  \n",
      "158    non          19    2        A   absence  \n",
      "160    oui          38    2        A  presence  \n",
      "169    non          14    2        B  presence  \n",
      "170    non           1    2        B   absence  \n",
      "174    non           0    1        A   absence  \n",
      "198    non          18    1        C   absence  \n",
      "205    non          12    2        A   absence  \n",
      "210    non           2    2        A  presence  \n",
      "228    non          10    1        A   absence  \n",
      "229    non           0    2        A   absence  \n"
     ]
    }
   ],
   "source": [
    "# liste des individus présentant une douleur de type A\n",
    "print(df.loc[df['type_douleur']==\"A\", :])"
   ]
  },
  {
   "cell_type": "code",
   "execution_count": 38,
   "id": "8028b756",
   "metadata": {},
   "outputs": [
    {
     "name": "stdout",
     "output_type": "stream",
     "text": [
      "False    250\n",
      "True      20\n",
      "Name: type_douleur, dtype: int64\n"
     ]
    }
   ],
   "source": [
    "print((df['type_douleur']==\"A\").value_counts())"
   ]
  },
  {
   "cell_type": "code",
   "execution_count": 39,
   "id": "89d2c80b",
   "metadata": {},
   "outputs": [
    {
     "name": "stdout",
     "output_type": "stream",
     "text": [
      "     age      sexe type_douleur  pression  cholester sucre electro  taux_max  \\\n",
      "2     57  masculin            B       124        261     A       A       141   \n",
      "4     74   feminin            B       120        269     A       C       121   \n",
      "13    61  masculin            A       134        234     A       A       145   \n",
      "18    64  masculin            A       110        211     A       C       144   \n",
      "19    40  masculin            A       140        199     A       A       178   \n",
      "..   ...       ...          ...       ...        ...   ...     ...       ...   \n",
      "262   58  masculin            B       120        284     A       C       160   \n",
      "263   49  masculin            B       130        266     A       A       171   \n",
      "264   48  masculin            B       110        229     A       A       168   \n",
      "266   44  masculin            B       120        263     A       A       173   \n",
      "267   56   feminin            B       140        294     A       C       153   \n",
      "\n",
      "    angine  depression  pic vaisseau     coeur  \n",
      "2      non           3    1        A  presence  \n",
      "4      oui           2    1        B   absence  \n",
      "13     non          26    2        C  presence  \n",
      "18     oui          18    2        A   absence  \n",
      "19     oui          14    1        A   absence  \n",
      "..     ...         ...  ...      ...       ...  \n",
      "262    non          18    2        A  presence  \n",
      "263    non           6    1        A   absence  \n",
      "264    non          10    3        A  presence  \n",
      "266    non           0    1        A   absence  \n",
      "267    non          13    2        A   absence  \n",
      "\n",
      "[62 rows x 13 columns]\n"
     ]
    }
   ],
   "source": [
    "# pour un ensemble de valeurs de la même variable,\n",
    "# nous utilisons isin()\n",
    "# print(df.loc[df['type_douleur'].isin(['A', 'B']), ])  # l'autre manière d'écriture\n",
    "# print(df.loc[df['type_douleur'].isin(['A', 'B'])])  # l'autre manière d'écriture\n",
    "print(df.loc[df['type_douleur'].isin(['A', 'B']), :])"
   ]
  },
  {
   "cell_type": "code",
   "execution_count": 40,
   "id": "3173c79c",
   "metadata": {},
   "outputs": [
    {
     "name": "stdout",
     "output_type": "stream",
     "text": [
      "     age      sexe type_douleur  pression  cholester sucre electro  taux_max  \\\n",
      "18    64  masculin            A       110        211     A       C       144   \n",
      "19    40  masculin            A       140        199     A       A       178   \n",
      "143   51  masculin            A       125        213     A       C       125   \n",
      "160   38  masculin            A       120        231     A       A       182   \n",
      "\n",
      "    angine  depression  pic vaisseau     coeur  \n",
      "18     oui          18    2        A   absence  \n",
      "19     oui          14    1        A   absence  \n",
      "143    oui          14    1        B   absence  \n",
      "160    oui          38    2        A  presence  \n"
     ]
    }
   ],
   "source": [
    "# liste des individus présentant une douleur de type A et angine == oui\n",
    "# print(df.loc[(df['type_douleur']=='A') & (df['angine']=='oui')])\n",
    "print(df.loc[(df['type_douleur']=='A') & (df['angine']=='oui'), :])"
   ]
  },
  {
   "cell_type": "code",
   "execution_count": 41,
   "id": "1c1283d2",
   "metadata": {},
   "outputs": [
    {
     "name": "stdout",
     "output_type": "stream",
     "text": [
      "     age      sexe type_douleur  pression  cholester sucre electro  taux_max  \\\n",
      "40    40  masculin            D       152        223     A       A       181   \n",
      "47    44  masculin            D       110        197     A       C       177   \n",
      "50    42  masculin            D       136        315     A       A       125   \n",
      "81    35  masculin            D       120        198     A       A       130   \n",
      "147   40  masculin            D       110        167     A       C       114   \n",
      "160   38  masculin            A       120        231     A       A       182   \n",
      "182   41  masculin            D       110        172     A       C       158   \n",
      "193   35  masculin            D       126        282     A       C       156   \n",
      "231   39  masculin            D       118        219     A       A       140   \n",
      "237   43  masculin            D       120        177     A       C       120   \n",
      "252   44  masculin            D       112        290     A       C       153   \n",
      "\n",
      "    angine  depression  pic vaisseau     coeur  \n",
      "40     non           0    1        A  presence  \n",
      "47     non           0    1        B  presence  \n",
      "50     oui          18    2        A  presence  \n",
      "81     oui          16    2        A  presence  \n",
      "147    oui          20    2        A  presence  \n",
      "160    oui          38    2        A  presence  \n",
      "182    non           0    1        A  presence  \n",
      "193    oui           0    1        A  presence  \n",
      "231    non          12    2        A  presence  \n",
      "237    oui          25    2        A  presence  \n",
      "252    non           0    1        B  presence  \n"
     ]
    }
   ],
   "source": [
    "# liste des personnes de moins de 45 ans, de sexe masculin, présentant une maladie cardiaque\n",
    "print(df.loc[(df['age'] < 45) & (df['sexe']=='masculin') & (df['coeur']=='presence')])"
   ]
  },
  {
   "cell_type": "code",
   "execution_count": 42,
   "id": "1d9b1792",
   "metadata": {},
   "outputs": [
    {
     "name": "stdout",
     "output_type": "stream",
     "text": [
      "     age      sexe     coeur  taux_max\n",
      "40    40  masculin  presence       181\n",
      "47    44  masculin  presence       177\n",
      "50    42  masculin  presence       125\n",
      "81    35  masculin  presence       130\n",
      "147   40  masculin  presence       114\n",
      "160   38  masculin  presence       182\n",
      "182   41  masculin  presence       158\n",
      "193   35  masculin  presence       156\n",
      "231   39  masculin  presence       140\n",
      "237   43  masculin  presence       120\n",
      "252   44  masculin  presence       153\n"
     ]
    }
   ],
   "source": [
    "# on peut n'afficher qu'une partie des colonnes\n",
    "# on définit la projection dans une liste\n",
    "colonnes = ['age', 'sexe', 'coeur', 'taux_max']\n",
    "# que l'onutilise en paramètre dans .loc[]\n",
    "# pour la même restructionque précédemment\n",
    "print(df.loc[(df['age'] < 45) & (df['sexe'] == 'masculin') & (df['coeur'] == 'presence'), colonnes])"
   ]
  },
  {
   "cell_type": "code",
   "execution_count": 43,
   "id": "326626a0",
   "metadata": {},
   "outputs": [
    {
     "name": "stdout",
     "output_type": "stream",
     "text": [
      "coeur     absence  presence\n",
      "sexe                       \n",
      "feminin        67        20\n",
      "masculin       83       100\n"
     ]
    }
   ],
   "source": [
    "# fréquences selon sexe et coeur - cela ressemble à table() de R\n",
    "print(pandas.crosstab(df['sexe'], df['coeur']))"
   ]
  },
  {
   "cell_type": "code",
   "execution_count": 44,
   "id": "405a28c8",
   "metadata": {},
   "outputs": [
    {
     "name": "stdout",
     "output_type": "stream",
     "text": [
      "sexe      feminin  masculin\n",
      "coeur                      \n",
      "absence        67        83\n",
      "presence       20       100\n"
     ]
    }
   ],
   "source": [
    "print(pandas.crosstab(df['coeur'], df['sexe']))"
   ]
  },
  {
   "cell_type": "code",
   "execution_count": 45,
   "id": "95c0cd49",
   "metadata": {},
   "outputs": [
    {
     "name": "stdout",
     "output_type": "stream",
     "text": [
      "coeur      absence  presence\n",
      "sexe                        \n",
      "feminin   0.770115  0.229885\n",
      "masculin  0.453552  0.546448\n"
     ]
    }
   ],
   "source": [
    "# nous pouvons demander un post-traitement, à la differénce de table() de R\n",
    "# par exemple, un pourcentage en ligne\n",
    "print(pandas.crosstab(df['sexe'], df['coeur'], normalize='index'))"
   ]
  },
  {
   "cell_type": "code",
   "execution_count": 46,
   "id": "722de4eb",
   "metadata": {},
   "outputs": [
    {
     "name": "stdout",
     "output_type": "stream",
     "text": [
      "coeur       absence  presence\n",
      "sexe                         \n",
      "feminin   54.582090     59.35\n",
      "masculin  51.192771     56.04\n"
     ]
    }
   ],
   "source": [
    "# nous pouvons aussi insérer un champ calculé, comme avec les TCD d'Excel\n",
    "# ex. moyenne d'âge selon le sexe et la maladie\n",
    "# nous utilisons la fonction mean() de la classe Series de la librairie Pandas\n",
    "# cela nous rapproche plus de donctions tapply() ou aggregate() de R\n",
    "print(pandas.crosstab(df['sexe'], df['coeur'], values=df['age'], aggfunc=pandas.Series.mean))"
   ]
  },
  {
   "cell_type": "code",
   "execution_count": 47,
   "id": "54199640",
   "metadata": {},
   "outputs": [
    {
     "name": "stdout",
     "output_type": "stream",
     "text": [
      "                age         \n",
      "coeur       absence presence\n",
      "sexe                        \n",
      "feminin   54.582090    59.35\n",
      "masculin  51.192771    56.04\n"
     ]
    }
   ],
   "source": [
    "# une autre manière de faire avec la commande pivot_table()\n",
    "# pour exactement le même résultat\n",
    "print(df.pivot_table(index=['sexe'], columns=['coeur'], values=['age'], aggfunc=pandas.Series.mean))"
   ]
  },
  {
   "cell_type": "code",
   "execution_count": 48,
   "id": "a897e818",
   "metadata": {},
   "outputs": [
    {
     "name": "stdout",
     "output_type": "stream",
     "text": [
      "coeur           absence  presence\n",
      "sexe     sucre                   \n",
      "feminin  A           61        15\n",
      "         B            6         5\n",
      "masculin A           66        88\n",
      "         B           17        12\n"
     ]
    }
   ],
   "source": [
    "# multiplier les critéres ast possible\n",
    "# mais comme avec les TCD, la lecture devient compliquée\n",
    "print(pandas.crosstab([df['sexe'], df['sucre']], df['coeur']))"
   ]
  },
  {
   "cell_type": "code",
   "execution_count": 49,
   "id": "093fdcfc",
   "metadata": {},
   "outputs": [
    {
     "name": "stdout",
     "output_type": "stream",
     "text": [
      "coeur            absence  presence\n",
      "sexe     sucre                    \n",
      "feminin  A      0.802632  0.197368\n",
      "         B      0.545455  0.454545\n",
      "masculin A      0.428571  0.571429\n",
      "         B      0.586207  0.413793\n"
     ]
    }
   ],
   "source": [
    "# il reste que les possibilités sont étendues\n",
    "print(pandas.crosstab([df['sexe'], df['sucre']], df['coeur'], normalize='index'))"
   ]
  },
  {
   "cell_type": "code",
   "execution_count": 50,
   "id": "168d344a",
   "metadata": {},
   "outputs": [
    {
     "name": "stdout",
     "output_type": "stream",
     "text": [
      "(183, 13)\n"
     ]
    }
   ],
   "source": [
    "# scission des données selon le sexe\n",
    "g = df.groupby('sexe')\n",
    "# calculer la dimension du sous-DataFrame associé aux hommes\n",
    "print(g.get_group('masculin').shape)"
   ]
  },
  {
   "cell_type": "code",
   "execution_count": 51,
   "id": "3e90baf7",
   "metadata": {},
   "outputs": [
    {
     "name": "stdout",
     "output_type": "stream",
     "text": [
      "53.84153005464481\n"
     ]
    }
   ],
   "source": [
    "# calculer la moyenne de l'âge chez les hommes\n",
    "print(g.get_group('masculin')['age'].mean())"
   ]
  },
  {
   "cell_type": "code",
   "execution_count": 52,
   "id": "ab219133",
   "metadata": {},
   "outputs": [
    {
     "name": "stdout",
     "output_type": "stream",
     "text": [
      "                age           depression           \n",
      "               mean       std       mean        std\n",
      "sexe                                               \n",
      "feminin   55.678161  9.626144   8.885057  11.332630\n",
      "masculin  53.841530  8.818189  11.267760  11.459408\n"
     ]
    }
   ],
   "source": [
    "# on peut appliquer differentes fonctions\n",
    "# agg() permet de revenir sur quelque chose qui ressemble au crosstab\n",
    "# std : standard deviation\n",
    "print(g[['age', 'depression']].agg([pandas.Series.mean, pandas.Series.std]))"
   ]
  },
  {
   "cell_type": "code",
   "execution_count": 53,
   "id": "1dc17ffd",
   "metadata": {},
   "outputs": [
    {
     "name": "stdout",
     "output_type": "stream",
     "text": [
      "feminin\n",
      "55.67816091954023\n",
      "masculin\n",
      "53.84153005464481\n"
     ]
    }
   ],
   "source": [
    "# nous pouvons itérer sur les groupes\n",
    "for groupe in g:\n",
    "    # groupe est un tuple\n",
    "    print(groupe[0])  # étiquette du groupe\n",
    "    # accés à la variable 'age' du groupe concerné\n",
    "    print(pandas.Series.mean(groupe[1]['age']))"
   ]
  },
  {
   "cell_type": "code",
   "execution_count": 54,
   "id": "2341e16a",
   "metadata": {},
   "outputs": [
    {
     "name": "stdout",
     "output_type": "stream",
     "text": [
      "0      463.085981\n",
      "1      672.750819\n",
      "2      570.070229\n",
      "3      436.682724\n",
      "4      520.791876\n",
      "          ...    \n",
      "265    640.101482\n",
      "266    654.664807\n",
      "267    615.878809\n",
      "268    598.371588\n",
      "269    454.106803\n",
      "Length: 270, dtype: float64\n"
     ]
    }
   ],
   "source": [
    "# création d'une variable taux_net (qui n'a aucune signification médicale)\n",
    "# utilisation de la librairie numpy (log = logaritme népérien)\n",
    "import numpy\n",
    "tauxnet = df['taux_max'] * numpy.log(df['age'])\n",
    "print(tauxnet)"
   ]
  },
  {
   "cell_type": "code",
   "execution_count": 55,
   "id": "033c7c04",
   "metadata": {},
   "outputs": [
    {
     "name": "stdout",
     "output_type": "stream",
     "text": [
      "(270, 14)\n"
     ]
    }
   ],
   "source": [
    "# laquelle variable peut être concaténée au DataFrame\n",
    "newdf = pandas.concat([df, tauxnet], axis=1)\n",
    "print(newdf.shape)"
   ]
  },
  {
   "cell_type": "code",
   "execution_count": 56,
   "id": "00b9fb2b",
   "metadata": {},
   "outputs": [
    {
     "name": "stdout",
     "output_type": "stream",
     "text": [
      "Index(['age', 'sexe', 'type_douleur', 'pression', 'cholester', 'sucre',\n",
      "       'electro', 'taux_max', 'angine', 'depression', 'pic', 'vaisseau',\n",
      "       'coeur'],\n",
      "      dtype='object')\n"
     ]
    }
   ],
   "source": [
    "print(df.columns)"
   ]
  },
  {
   "cell_type": "code",
   "execution_count": 57,
   "id": "1539b5c9",
   "metadata": {},
   "outputs": [
    {
     "name": "stdout",
     "output_type": "stream",
     "text": [
      "Index([         'age',         'sexe', 'type_douleur',     'pression',\n",
      "          'cholester',        'sucre',      'electro',     'taux_max',\n",
      "             'angine',   'depression',          'pic',     'vaisseau',\n",
      "              'coeur',              0],\n",
      "      dtype='object')\n"
     ]
    }
   ],
   "source": [
    "print(newdf.columns)"
   ]
  },
  {
   "cell_type": "code",
   "execution_count": 58,
   "id": "fd2e6808",
   "metadata": {},
   "outputs": [
    {
     "name": "stdout",
     "output_type": "stream",
     "text": [
      "(270,)\n"
     ]
    }
   ],
   "source": [
    "# creation d'une Série de 0 de la même longeur\n",
    "# que notre DataFrame (nombre de lignes)\n",
    "# nous itilisons la méthode de numpy pour cela\n",
    "code = pandas.Series(numpy.zeros(df.shape[0]))\n",
    "print(code.shape)"
   ]
  },
  {
   "cell_type": "code",
   "execution_count": 59,
   "id": "5cc467b8",
   "metadata": {},
   "outputs": [
    {
     "name": "stdout",
     "output_type": "stream",
     "text": [
      "1.0    183\n",
      "0.0     87\n",
      "dtype: int64\n"
     ]
    }
   ],
   "source": [
    "# les \"sexe = masculin\" sont codés 1\n",
    "# de fait, \"sexe = feminin\" est codé zero puisque 1e\n",
    "# vecteur a préalablemente été crée avec des valeurs 0\n",
    "code[df['sexe'] == 'masculin'] = 1\n",
    "print(code.value_counts())"
   ]
  },
  {
   "cell_type": "code",
   "execution_count": 60,
   "id": "b52a7542",
   "metadata": {},
   "outputs": [
    {
     "name": "stdout",
     "output_type": "stream",
     "text": [
      "1    183\n",
      "0     87\n",
      "Name: sexe, dtype: int64\n"
     ]
    }
   ],
   "source": [
    "# une autre solution plus simole, mais il faut connaître eq()\n",
    "codebis = df['sexe'].eq('masculin').astype('int')\n",
    "print(codebis.value_counts())"
   ]
  },
  {
   "cell_type": "code",
   "execution_count": 62,
   "id": "67837d91",
   "metadata": {},
   "outputs": [
    {
     "name": "stdout",
     "output_type": "stream",
     "text": [
      "Collecting matplotlib\n",
      "  Downloading matplotlib-3.7.1-cp39-cp39-win_amd64.whl (7.6 MB)\n",
      "     ---------------------------------------- 0.0/7.6 MB ? eta -:--:--\n",
      "     - -------------------------------------- 0.3/7.6 MB 8.9 MB/s eta 0:00:01\n",
      "     --- ------------------------------------ 0.6/7.6 MB 8.1 MB/s eta 0:00:01\n",
      "     ----- ---------------------------------- 1.1/7.6 MB 8.8 MB/s eta 0:00:01\n",
      "     -------- ------------------------------- 1.6/7.6 MB 9.2 MB/s eta 0:00:01\n",
      "     ----------- ---------------------------- 2.2/7.6 MB 9.2 MB/s eta 0:00:01\n",
      "     -------------- ------------------------- 2.7/7.6 MB 9.0 MB/s eta 0:00:01\n",
      "     ----------------- ---------------------- 3.2/7.6 MB 9.9 MB/s eta 0:00:01\n",
      "     -------------------- ------------------- 3.9/7.6 MB 10.0 MB/s eta 0:00:01\n",
      "     ----------------------- ---------------- 4.5/7.6 MB 10.1 MB/s eta 0:00:01\n",
      "     -------------------------- ------------- 5.0/7.6 MB 10.4 MB/s eta 0:00:01\n",
      "     ----------------------------- ---------- 5.6/7.6 MB 10.5 MB/s eta 0:00:01\n",
      "     -------------------------------- ------- 6.2/7.6 MB 10.3 MB/s eta 0:00:01\n",
      "     ------------------------------------ --- 7.0/7.6 MB 10.4 MB/s eta 0:00:01\n",
      "     ---------------------------------------  7.5/7.6 MB 10.5 MB/s eta 0:00:01\n",
      "     ---------------------------------------  7.6/7.6 MB 10.1 MB/s eta 0:00:01\n",
      "     ---------------------------------------  7.6/7.6 MB 10.1 MB/s eta 0:00:01\n",
      "     ---------------------------------------  7.6/7.6 MB 10.1 MB/s eta 0:00:01\n",
      "     ---------------------------------------  7.6/7.6 MB 10.1 MB/s eta 0:00:01\n",
      "     ---------------------------------------  7.6/7.6 MB 10.1 MB/s eta 0:00:01\n",
      "     ---------------------------------------  7.6/7.6 MB 10.1 MB/s eta 0:00:01\n",
      "     ---------------------------------------  7.6/7.6 MB 10.1 MB/s eta 0:00:01\n",
      "     ---------------------------------------  7.6/7.6 MB 10.1 MB/s eta 0:00:01\n",
      "     ---------------------------------------  7.6/7.6 MB 10.1 MB/s eta 0:00:01\n",
      "     ---------------------------------------  7.6/7.6 MB 10.1 MB/s eta 0:00:01\n",
      "     ---------------------------------------  7.6/7.6 MB 10.1 MB/s eta 0:00:01\n",
      "     ---------------------------------------  7.6/7.6 MB 10.1 MB/s eta 0:00:01\n",
      "     ---------------------------------------  7.6/7.6 MB 10.1 MB/s eta 0:00:01\n",
      "     ---------------------------------------  7.6/7.6 MB 10.1 MB/s eta 0:00:01\n",
      "     ---------------------------------------  7.6/7.6 MB 10.1 MB/s eta 0:00:01\n",
      "     ---------------------------------------  7.6/7.6 MB 10.1 MB/s eta 0:00:01\n",
      "     ---------------------------------------  7.6/7.6 MB 10.1 MB/s eta 0:00:01\n",
      "     ---------------------------------------  7.6/7.6 MB 10.1 MB/s eta 0:00:01\n",
      "     ---------------------------------------  7.6/7.6 MB 10.1 MB/s eta 0:00:01\n",
      "     ---------------------------------------  7.6/7.6 MB 10.1 MB/s eta 0:00:01\n",
      "     ---------------------------------------  7.6/7.6 MB 10.1 MB/s eta 0:00:01\n",
      "     ---------------------------------------- 7.6/7.6 MB 4.1 MB/s eta 0:00:00\n",
      "Collecting pyparsing>=2.3.1\n",
      "  Using cached pyparsing-3.0.9-py3-none-any.whl (98 kB)\n",
      "Requirement already satisfied: packaging>=20.0 in c:\\users\\user\\appdata\\local\\programs\\python\\python39\\lib\\site-packages (from matplotlib) (23.0)\n",
      "Requirement already satisfied: python-dateutil>=2.7 in c:\\users\\user\\appdata\\local\\programs\\python\\python39\\lib\\site-packages (from matplotlib) (2.8.2)\n",
      "Collecting pillow>=6.2.0\n",
      "  Downloading Pillow-9.4.0-cp39-cp39-win_amd64.whl (2.5 MB)\n",
      "     ---------------------------------------- 0.0/2.5 MB ? eta -:--:--\n",
      "     ---------- ----------------------------- 0.6/2.5 MB 20.5 MB/s eta 0:00:01\n",
      "     ----------------------- ---------------- 1.4/2.5 MB 15.3 MB/s eta 0:00:01\n",
      "     --------------------------------- ------ 2.1/2.5 MB 14.8 MB/s eta 0:00:01\n",
      "     ---------------------------------------  2.5/2.5 MB 13.3 MB/s eta 0:00:01\n",
      "     ---------------------------------------  2.5/2.5 MB 13.3 MB/s eta 0:00:01\n",
      "     ---------------------------------------  2.5/2.5 MB 13.3 MB/s eta 0:00:01\n",
      "     ---------------------------------------  2.5/2.5 MB 13.3 MB/s eta 0:00:01\n",
      "     ---------------------------------------  2.5/2.5 MB 13.3 MB/s eta 0:00:01\n",
      "     ---------------------------------------  2.5/2.5 MB 13.3 MB/s eta 0:00:01\n",
      "     ---------------------------------------  2.5/2.5 MB 13.3 MB/s eta 0:00:01\n",
      "     ---------------------------------------  2.5/2.5 MB 13.3 MB/s eta 0:00:01\n",
      "     ---------------------------------------  2.5/2.5 MB 13.3 MB/s eta 0:00:01\n",
      "     ---------------------------------------- 2.5/2.5 MB 2.0 MB/s eta 0:00:00\n",
      "Collecting contourpy>=1.0.1\n",
      "  Downloading contourpy-1.0.7-cp39-cp39-win_amd64.whl (160 kB)\n",
      "     ---------------------------------------- 0.0/160.2 kB ? eta -:--:--\n",
      "     -------------------------------------- 160.2/160.2 kB 4.8 MB/s eta 0:00:00\n",
      "Requirement already satisfied: numpy>=1.20 in c:\\users\\user\\appdata\\local\\programs\\python\\python39\\lib\\site-packages (from matplotlib) (1.24.2)\n",
      "Collecting fonttools>=4.22.0\n",
      "  Downloading fonttools-4.39.2-py3-none-any.whl (1.0 MB)\n",
      "     ---------------------------------------- 0.0/1.0 MB ? eta -:--:--\n",
      "     ---------------------------- ----------- 0.7/1.0 MB 23.1 MB/s eta 0:00:01\n",
      "     ---------------------------------------  1.0/1.0 MB 15.8 MB/s eta 0:00:01\n",
      "     ---------------------------------------  1.0/1.0 MB 15.8 MB/s eta 0:00:01\n",
      "     ---------------------------------------  1.0/1.0 MB 15.8 MB/s eta 0:00:01\n",
      "     ---------------------------------------- 1.0/1.0 MB 4.2 MB/s eta 0:00:00\n",
      "Collecting importlib-resources>=3.2.0\n",
      "  Downloading importlib_resources-5.12.0-py3-none-any.whl (36 kB)\n",
      "Collecting cycler>=0.10\n",
      "  Using cached cycler-0.11.0-py3-none-any.whl (6.4 kB)\n",
      "Collecting kiwisolver>=1.0.1\n",
      "  Using cached kiwisolver-1.4.4-cp39-cp39-win_amd64.whl (55 kB)\n",
      "Requirement already satisfied: zipp>=3.1.0 in c:\\users\\user\\appdata\\local\\programs\\python\\python39\\lib\\site-packages (from importlib-resources>=3.2.0->matplotlib) (3.15.0)\n",
      "Requirement already satisfied: six>=1.5 in c:\\users\\user\\appdata\\local\\programs\\python\\python39\\lib\\site-packages (from python-dateutil>=2.7->matplotlib) (1.16.0)\n",
      "Installing collected packages: pyparsing, pillow, kiwisolver, importlib-resources, fonttools, cycler, contourpy, matplotlib\n",
      "Successfully installed contourpy-1.0.7 cycler-0.11.0 fonttools-4.39.2 importlib-resources-5.12.0 kiwisolver-1.4.4 matplotlib-3.7.1 pillow-9.4.0 pyparsing-3.0.9\n"
     ]
    }
   ],
   "source": [
    "!pip install matplotlib"
   ]
  },
  {
   "cell_type": "code",
   "execution_count": null,
   "id": "14838d48",
   "metadata": {},
   "outputs": [],
   "source": [
    "# indiquer que l'on veut voir apparaître les graphiques dans le notebook\n",
    "# /!\\ très important, sinon on ne verrait rien\n",
    "%matplotlib\n",
    "\n",
    "# importation de la librairie\n",
    "import matplotlib.mlab as mlab\n",
    "import matplotlib.pyplot as plt"
   ]
  },
  {
   "cell_type": "code",
   "execution_count": 72,
   "id": "6f158fc5",
   "metadata": {},
   "outputs": [
    {
     "data": {
      "text/plain": [
       "array([[<Axes: title={'center': 'age'}>]], dtype=object)"
      ]
     },
     "execution_count": 72,
     "metadata": {},
     "output_type": "execute_result"
    }
   ],
   "source": [
    "# histogramme de l'âge\n",
    "df.hist(column='age')"
   ]
  },
  {
   "cell_type": "code",
   "execution_count": 73,
   "id": "c4a4db87",
   "metadata": {},
   "outputs": [
    {
     "data": {
      "text/plain": [
       "array([<Axes: title={'center': 'feminin'}>,\n",
       "       <Axes: title={'center': 'masculin'}>], dtype=object)"
      ]
     },
     "execution_count": 73,
     "metadata": {},
     "output_type": "execute_result"
    }
   ],
   "source": [
    "df.hist(column='age', by='sexe')"
   ]
  },
  {
   "cell_type": "code",
   "execution_count": 76,
   "id": "ecf9043e",
   "metadata": {},
   "outputs": [
    {
     "name": "stdout",
     "output_type": "stream",
     "text": [
      "Collecting scipy\n",
      "  Downloading scipy-1.10.1-cp39-cp39-win_amd64.whl (42.5 MB)\n",
      "     ---------------------------------------- 0.0/42.5 MB ? eta -:--:--\n",
      "     ---------------------------------------- 0.3/42.5 MB 8.6 MB/s eta 0:00:05\n",
      "      --------------------------------------- 0.8/42.5 MB 8.6 MB/s eta 0:00:05\n",
      "     - -------------------------------------- 1.4/42.5 MB 9.5 MB/s eta 0:00:05\n",
      "     - -------------------------------------- 2.0/42.5 MB 10.5 MB/s eta 0:00:04\n",
      "     -- ------------------------------------- 2.5/42.5 MB 9.9 MB/s eta 0:00:05\n",
      "     -- ------------------------------------- 3.2/42.5 MB 10.1 MB/s eta 0:00:04\n",
      "     --- ------------------------------------ 3.9/42.5 MB 10.4 MB/s eta 0:00:04\n",
      "     ---- ----------------------------------- 4.5/42.5 MB 10.6 MB/s eta 0:00:04\n",
      "     ---- ----------------------------------- 5.0/42.5 MB 10.7 MB/s eta 0:00:04\n",
      "     ----- ---------------------------------- 5.6/42.5 MB 11.2 MB/s eta 0:00:04\n",
      "     ----- ---------------------------------- 6.2/42.5 MB 11.0 MB/s eta 0:00:04\n",
      "     ------ --------------------------------- 6.8/42.5 MB 11.1 MB/s eta 0:00:04\n",
      "     ------ --------------------------------- 7.3/42.5 MB 10.8 MB/s eta 0:00:04\n",
      "     ------- -------------------------------- 8.0/42.5 MB 10.9 MB/s eta 0:00:04\n",
      "     -------- ------------------------------- 8.7/42.5 MB 10.9 MB/s eta 0:00:04\n",
      "     -------- ------------------------------- 9.2/42.5 MB 10.9 MB/s eta 0:00:04\n",
      "     --------- ----------------------------- 10.0/42.5 MB 11.0 MB/s eta 0:00:03\n",
      "     --------- ----------------------------- 10.6/42.5 MB 11.5 MB/s eta 0:00:03\n",
      "     ---------- ---------------------------- 11.3/42.5 MB 11.7 MB/s eta 0:00:03\n",
      "     ----------- --------------------------- 12.0/42.5 MB 11.5 MB/s eta 0:00:03\n",
      "     ----------- --------------------------- 12.6/42.5 MB 11.7 MB/s eta 0:00:03\n",
      "     ------------ -------------------------- 13.3/42.5 MB 11.5 MB/s eta 0:00:03\n",
      "     ------------ -------------------------- 13.4/42.5 MB 11.5 MB/s eta 0:00:03\n",
      "     ------------- ------------------------- 14.3/42.5 MB 11.1 MB/s eta 0:00:03\n",
      "     ------------- ------------------------- 15.1/42.5 MB 11.3 MB/s eta 0:00:03\n",
      "     -------------- ------------------------ 15.9/42.5 MB 11.3 MB/s eta 0:00:03\n",
      "     --------------- ----------------------- 16.5/42.5 MB 11.3 MB/s eta 0:00:03\n",
      "     ---------------- ---------------------- 17.5/42.5 MB 11.5 MB/s eta 0:00:03\n",
      "     ---------------- ---------------------- 18.1/42.5 MB 11.9 MB/s eta 0:00:03\n",
      "     ----------------- --------------------- 18.6/42.5 MB 11.1 MB/s eta 0:00:03\n",
      "     ----------------- --------------------- 19.5/42.5 MB 11.7 MB/s eta 0:00:02\n",
      "     ------------------ -------------------- 20.2/42.5 MB 11.7 MB/s eta 0:00:02\n",
      "     ------------------- ------------------- 20.9/42.5 MB 11.7 MB/s eta 0:00:02\n",
      "     ------------------- ------------------- 21.4/42.5 MB 11.3 MB/s eta 0:00:02\n",
      "     -------------------- ------------------ 22.4/42.5 MB 11.7 MB/s eta 0:00:02\n",
      "     --------------------- ----------------- 23.0/42.5 MB 11.7 MB/s eta 0:00:02\n",
      "     --------------------- ----------------- 23.5/42.5 MB 11.9 MB/s eta 0:00:02\n",
      "     ---------------------- ---------------- 24.0/42.5 MB 12.4 MB/s eta 0:00:02\n",
      "     ---------------------- ---------------- 24.7/42.5 MB 12.1 MB/s eta 0:00:02\n",
      "     ----------------------- --------------- 25.4/42.5 MB 12.1 MB/s eta 0:00:02\n",
      "     ----------------------- --------------- 26.0/42.5 MB 11.7 MB/s eta 0:00:02\n",
      "     ------------------------ -------------- 26.7/42.5 MB 11.9 MB/s eta 0:00:02\n",
      "     ------------------------ -------------- 27.1/42.5 MB 12.1 MB/s eta 0:00:02\n",
      "     ------------------------- ------------- 27.6/42.5 MB 11.3 MB/s eta 0:00:02\n",
      "     ------------------------- ------------- 28.3/42.5 MB 11.5 MB/s eta 0:00:02\n",
      "     --------------------------- ------------ 29.5/42.5 MB 9.8 MB/s eta 0:00:02\n",
      "     --------------------------- ------------ 29.6/42.5 MB 6.8 MB/s eta 0:00:02\n",
      "     ---------------------------- ----------- 30.3/42.5 MB 6.4 MB/s eta 0:00:02\n",
      "     ---------------------------- ----------- 30.4/42.5 MB 6.1 MB/s eta 0:00:02\n",
      "     ----------------------------- ---------- 31.0/42.5 MB 5.8 MB/s eta 0:00:02\n",
      "     ----------------------------- ---------- 31.7/42.5 MB 6.0 MB/s eta 0:00:02\n",
      "     ------------------------------ --------- 32.4/42.5 MB 6.0 MB/s eta 0:00:02\n",
      "     ------------------------------- -------- 33.8/42.5 MB 6.1 MB/s eta 0:00:02\n",
      "     --------------------------------- ------ 35.6/42.5 MB 6.4 MB/s eta 0:00:02\n",
      "     ---------------------------------- ----- 36.9/42.5 MB 6.8 MB/s eta 0:00:01\n",
      "     ----------------------------------- ---- 38.2/42.5 MB 7.0 MB/s eta 0:00:01\n",
      "     ------------------------------------- -- 39.5/42.5 MB 8.1 MB/s eta 0:00:01\n",
      "     ------------------------------------- - 40.5/42.5 MB 16.8 MB/s eta 0:00:01\n",
      "     ------------------------------------- - 41.2/42.5 MB 19.3 MB/s eta 0:00:01\n",
      "     --------------------------------------  41.6/42.5 MB 18.7 MB/s eta 0:00:01\n",
      "     --------------------------------------  42.2/42.5 MB 17.7 MB/s eta 0:00:01\n",
      "     --------------------------------------  42.5/42.5 MB 17.2 MB/s eta 0:00:01\n",
      "     --------------------------------------  42.5/42.5 MB 17.2 MB/s eta 0:00:01\n",
      "     --------------------------------------  42.5/42.5 MB 17.2 MB/s eta 0:00:01\n",
      "     --------------------------------------  42.5/42.5 MB 17.2 MB/s eta 0:00:01\n",
      "     --------------------------------------  42.5/42.5 MB 17.2 MB/s eta 0:00:01\n",
      "     --------------------------------------  42.5/42.5 MB 17.2 MB/s eta 0:00:01\n",
      "     --------------------------------------  42.5/42.5 MB 17.2 MB/s eta 0:00:01\n",
      "     --------------------------------------  42.5/42.5 MB 17.2 MB/s eta 0:00:01\n",
      "     --------------------------------------  42.5/42.5 MB 17.2 MB/s eta 0:00:01\n",
      "     --------------------------------------  42.5/42.5 MB 17.2 MB/s eta 0:00:01\n",
      "     --------------------------------------  42.5/42.5 MB 17.2 MB/s eta 0:00:01\n",
      "     --------------------------------------  42.5/42.5 MB 17.2 MB/s eta 0:00:01\n",
      "     --------------------------------------  42.5/42.5 MB 17.2 MB/s eta 0:00:01\n",
      "     --------------------------------------  42.5/42.5 MB 17.2 MB/s eta 0:00:01\n",
      "     --------------------------------------  42.5/42.5 MB 17.2 MB/s eta 0:00:01\n",
      "     --------------------------------------  42.5/42.5 MB 17.2 MB/s eta 0:00:01\n",
      "     --------------------------------------  42.5/42.5 MB 17.2 MB/s eta 0:00:01\n",
      "     --------------------------------------  42.5/42.5 MB 17.2 MB/s eta 0:00:01\n",
      "     --------------------------------------  42.5/42.5 MB 17.2 MB/s eta 0:00:01\n",
      "     --------------------------------------  42.5/42.5 MB 17.2 MB/s eta 0:00:01\n",
      "     --------------------------------------  42.5/42.5 MB 17.2 MB/s eta 0:00:01\n",
      "     --------------------------------------  42.5/42.5 MB 17.2 MB/s eta 0:00:01\n",
      "     --------------------------------------  42.5/42.5 MB 17.2 MB/s eta 0:00:01\n",
      "     --------------------------------------  42.5/42.5 MB 17.2 MB/s eta 0:00:01\n",
      "     --------------------------------------  42.5/42.5 MB 17.2 MB/s eta 0:00:01\n",
      "     --------------------------------------  42.5/42.5 MB 17.2 MB/s eta 0:00:01\n",
      "     --------------------------------------  42.5/42.5 MB 17.2 MB/s eta 0:00:01\n",
      "     --------------------------------------  42.5/42.5 MB 17.2 MB/s eta 0:00:01\n",
      "     --------------------------------------  42.5/42.5 MB 17.2 MB/s eta 0:00:01\n",
      "     --------------------------------------  42.5/42.5 MB 17.2 MB/s eta 0:00:01\n",
      "     --------------------------------------  42.5/42.5 MB 17.2 MB/s eta 0:00:01\n",
      "     --------------------------------------  42.5/42.5 MB 17.2 MB/s eta 0:00:01\n",
      "     --------------------------------------  42.5/42.5 MB 17.2 MB/s eta 0:00:01\n",
      "     --------------------------------------  42.5/42.5 MB 17.2 MB/s eta 0:00:01\n",
      "     --------------------------------------  42.5/42.5 MB 17.2 MB/s eta 0:00:01\n",
      "     --------------------------------------  42.5/42.5 MB 17.2 MB/s eta 0:00:01\n",
      "     --------------------------------------  42.5/42.5 MB 17.2 MB/s eta 0:00:01\n",
      "     --------------------------------------  42.5/42.5 MB 17.2 MB/s eta 0:00:01\n",
      "     --------------------------------------  42.5/42.5 MB 17.2 MB/s eta 0:00:01\n",
      "     --------------------------------------  42.5/42.5 MB 17.2 MB/s eta 0:00:01\n",
      "     --------------------------------------  42.5/42.5 MB 17.2 MB/s eta 0:00:01\n",
      "     --------------------------------------  42.5/42.5 MB 17.2 MB/s eta 0:00:01\n",
      "     --------------------------------------  42.5/42.5 MB 17.2 MB/s eta 0:00:01\n",
      "     --------------------------------------  42.5/42.5 MB 17.2 MB/s eta 0:00:01\n",
      "     --------------------------------------  42.5/42.5 MB 17.2 MB/s eta 0:00:01\n",
      "     --------------------------------------  42.5/42.5 MB 17.2 MB/s eta 0:00:01\n",
      "     --------------------------------------  42.5/42.5 MB 17.2 MB/s eta 0:00:01\n",
      "     --------------------------------------  42.5/42.5 MB 17.2 MB/s eta 0:00:01\n",
      "     --------------------------------------  42.5/42.5 MB 17.2 MB/s eta 0:00:01\n",
      "     --------------------------------------  42.5/42.5 MB 17.2 MB/s eta 0:00:01\n",
      "     --------------------------------------  42.5/42.5 MB 17.2 MB/s eta 0:00:01\n",
      "     --------------------------------------  42.5/42.5 MB 17.2 MB/s eta 0:00:01\n",
      "     --------------------------------------  42.5/42.5 MB 17.2 MB/s eta 0:00:01\n",
      "     --------------------------------------  42.5/42.5 MB 17.2 MB/s eta 0:00:01\n",
      "     --------------------------------------  42.5/42.5 MB 17.2 MB/s eta 0:00:01\n",
      "     --------------------------------------  42.5/42.5 MB 17.2 MB/s eta 0:00:01\n",
      "     --------------------------------------  42.5/42.5 MB 17.2 MB/s eta 0:00:01\n",
      "     --------------------------------------  42.5/42.5 MB 17.2 MB/s eta 0:00:01\n",
      "     --------------------------------------  42.5/42.5 MB 17.2 MB/s eta 0:00:01\n",
      "     --------------------------------------  42.5/42.5 MB 17.2 MB/s eta 0:00:01\n",
      "     --------------------------------------  42.5/42.5 MB 17.2 MB/s eta 0:00:01\n",
      "     --------------------------------------  42.5/42.5 MB 17.2 MB/s eta 0:00:01\n",
      "     --------------------------------------  42.5/42.5 MB 17.2 MB/s eta 0:00:01\n",
      "     --------------------------------------  42.5/42.5 MB 17.2 MB/s eta 0:00:01\n",
      "     --------------------------------------  42.5/42.5 MB 17.2 MB/s eta 0:00:01\n",
      "     --------------------------------------  42.5/42.5 MB 17.2 MB/s eta 0:00:01\n",
      "     --------------------------------------  42.5/42.5 MB 17.2 MB/s eta 0:00:01\n",
      "     --------------------------------------  42.5/42.5 MB 17.2 MB/s eta 0:00:01\n",
      "     --------------------------------------  42.5/42.5 MB 17.2 MB/s eta 0:00:01\n",
      "     --------------------------------------  42.5/42.5 MB 17.2 MB/s eta 0:00:01\n",
      "     --------------------------------------  42.5/42.5 MB 17.2 MB/s eta 0:00:01\n",
      "     --------------------------------------  42.5/42.5 MB 17.2 MB/s eta 0:00:01\n",
      "     --------------------------------------  42.5/42.5 MB 17.2 MB/s eta 0:00:01\n",
      "     --------------------------------------  42.5/42.5 MB 17.2 MB/s eta 0:00:01\n",
      "     --------------------------------------  42.5/42.5 MB 17.2 MB/s eta 0:00:01\n",
      "     --------------------------------------  42.5/42.5 MB 17.2 MB/s eta 0:00:01\n",
      "     --------------------------------------  42.5/42.5 MB 17.2 MB/s eta 0:00:01\n",
      "     --------------------------------------  42.5/42.5 MB 17.2 MB/s eta 0:00:01\n",
      "     --------------------------------------  42.5/42.5 MB 17.2 MB/s eta 0:00:01\n",
      "     --------------------------------------  42.5/42.5 MB 17.2 MB/s eta 0:00:01\n",
      "     --------------------------------------  42.5/42.5 MB 17.2 MB/s eta 0:00:01\n",
      "     --------------------------------------  42.5/42.5 MB 17.2 MB/s eta 0:00:01\n",
      "     --------------------------------------  42.5/42.5 MB 17.2 MB/s eta 0:00:01\n",
      "     --------------------------------------  42.5/42.5 MB 17.2 MB/s eta 0:00:01\n",
      "     --------------------------------------  42.5/42.5 MB 17.2 MB/s eta 0:00:01\n",
      "     --------------------------------------  42.5/42.5 MB 17.2 MB/s eta 0:00:01\n",
      "     --------------------------------------  42.5/42.5 MB 17.2 MB/s eta 0:00:01\n",
      "     --------------------------------------  42.5/42.5 MB 17.2 MB/s eta 0:00:01\n",
      "     --------------------------------------  42.5/42.5 MB 17.2 MB/s eta 0:00:01\n",
      "     --------------------------------------  42.5/42.5 MB 17.2 MB/s eta 0:00:01\n",
      "     --------------------------------------  42.5/42.5 MB 17.2 MB/s eta 0:00:01\n",
      "     --------------------------------------  42.5/42.5 MB 17.2 MB/s eta 0:00:01\n",
      "     --------------------------------------  42.5/42.5 MB 17.2 MB/s eta 0:00:01\n",
      "     --------------------------------------  42.5/42.5 MB 17.2 MB/s eta 0:00:01\n",
      "     --------------------------------------  42.5/42.5 MB 17.2 MB/s eta 0:00:01\n",
      "     --------------------------------------  42.5/42.5 MB 17.2 MB/s eta 0:00:01\n",
      "     --------------------------------------  42.5/42.5 MB 17.2 MB/s eta 0:00:01\n",
      "     --------------------------------------  42.5/42.5 MB 17.2 MB/s eta 0:00:01\n",
      "     --------------------------------------  42.5/42.5 MB 17.2 MB/s eta 0:00:01\n",
      "     --------------------------------------  42.5/42.5 MB 17.2 MB/s eta 0:00:01\n",
      "     --------------------------------------  42.5/42.5 MB 17.2 MB/s eta 0:00:01\n",
      "     --------------------------------------  42.5/42.5 MB 17.2 MB/s eta 0:00:01\n",
      "     --------------------------------------  42.5/42.5 MB 17.2 MB/s eta 0:00:01\n",
      "     --------------------------------------  42.5/42.5 MB 17.2 MB/s eta 0:00:01\n",
      "     --------------------------------------  42.5/42.5 MB 17.2 MB/s eta 0:00:01\n",
      "     --------------------------------------  42.5/42.5 MB 17.2 MB/s eta 0:00:01\n",
      "     --------------------------------------  42.5/42.5 MB 17.2 MB/s eta 0:00:01\n",
      "     --------------------------------------  42.5/42.5 MB 17.2 MB/s eta 0:00:01\n",
      "     --------------------------------------  42.5/42.5 MB 17.2 MB/s eta 0:00:01\n",
      "     --------------------------------------  42.5/42.5 MB 17.2 MB/s eta 0:00:01\n",
      "     --------------------------------------  42.5/42.5 MB 17.2 MB/s eta 0:00:01\n",
      "     --------------------------------------  42.5/42.5 MB 17.2 MB/s eta 0:00:01\n",
      "     --------------------------------------  42.5/42.5 MB 17.2 MB/s eta 0:00:01\n",
      "     --------------------------------------  42.5/42.5 MB 17.2 MB/s eta 0:00:01\n",
      "     --------------------------------------  42.5/42.5 MB 17.2 MB/s eta 0:00:01\n",
      "     --------------------------------------  42.5/42.5 MB 17.2 MB/s eta 0:00:01\n",
      "     --------------------------------------  42.5/42.5 MB 17.2 MB/s eta 0:00:01\n",
      "     --------------------------------------  42.5/42.5 MB 17.2 MB/s eta 0:00:01\n",
      "     --------------------------------------  42.5/42.5 MB 17.2 MB/s eta 0:00:01\n",
      "     ---------------------------------------- 42.5/42.5 MB 1.2 MB/s eta 0:00:00\n",
      "Requirement already satisfied: numpy<1.27.0,>=1.19.5 in c:\\users\\user\\appdata\\local\\programs\\python\\python39\\lib\\site-packages (from scipy) (1.24.2)\n",
      "Installing collected packages: scipy\n",
      "Successfully installed scipy-1.10.1\n"
     ]
    }
   ],
   "source": [
    "!pip install scipy"
   ]
  },
  {
   "cell_type": "code",
   "execution_count": 77,
   "id": "ea302613",
   "metadata": {},
   "outputs": [
    {
     "data": {
      "text/plain": [
       "<Axes: ylabel='Density'>"
      ]
     },
     "execution_count": 77,
     "metadata": {},
     "output_type": "execute_result"
    }
   ],
   "source": [
    "# density plot\n",
    "df['age'].plot.kde()"
   ]
  },
  {
   "cell_type": "code",
   "execution_count": 78,
   "id": "e6da0540",
   "metadata": {},
   "outputs": [
    {
     "data": {
      "text/plain": [
       "array([<Axes: title={'center': 'feminin'}>,\n",
       "       <Axes: title={'center': 'masculin'}>], dtype=object)"
      ]
     },
     "execution_count": 78,
     "metadata": {},
     "output_type": "execute_result"
    }
   ],
   "source": [
    "# histogrammes de l'âge selon le sexe\n",
    "df.hist(column='age', by='sexe')"
   ]
  },
  {
   "cell_type": "code",
   "execution_count": 80,
   "id": "d6a86802",
   "metadata": {},
   "outputs": [
    {
     "data": {
      "text/plain": [
       "<Axes: title={'center': 'age'}, xlabel='sexe'>"
      ]
     },
     "execution_count": 80,
     "metadata": {},
     "output_type": "execute_result"
    }
   ],
   "source": [
    "# comparaison des distributions avec un boxplot\n",
    "df.boxplot(column='age', by='sexe')"
   ]
  },
  {
   "cell_type": "code",
   "execution_count": 81,
   "id": "4ca90e03",
   "metadata": {},
   "outputs": [
    {
     "data": {
      "text/plain": [
       "<Axes: xlabel='age', ylabel='taux_max'>"
      ]
     },
     "execution_count": 81,
     "metadata": {},
     "output_type": "execute_result"
    }
   ],
   "source": [
    "# scatterplot: age vs. taux_max\n",
    "df.plot.scatter(x='age', y='taux_max')"
   ]
  },
  {
   "cell_type": "code",
   "execution_count": 82,
   "id": "dc6e1fda",
   "metadata": {},
   "outputs": [
    {
     "data": {
      "text/plain": [
       "<Axes: xlabel='age', ylabel='taux_max'>"
      ]
     },
     "execution_count": 82,
     "metadata": {},
     "output_type": "execute_result"
    }
   ],
   "source": [
    "# scatterplot (age vs. taux_max) en distinquant les points\n",
    "# (niveau de gris) selon les valeurs de dépression\n",
    "df.plot.scatter(x='age', y='taux_max', c='depression')"
   ]
  },
  {
   "cell_type": "code",
   "execution_count": 83,
   "id": "a770218f",
   "metadata": {},
   "outputs": [
    {
     "data": {
      "text/plain": [
       "<Axes: xlabel='age', ylabel='taux_max'>"
      ]
     },
     "execution_count": 83,
     "metadata": {},
     "output_type": "execute_result"
    }
   ],
   "source": [
    "# scatterplot (age vs. taux_max) en distinquant les points\n",
    "# (taille des points) selon les valeurs de dépression\n",
    "df.plot.scatter(x='age', y='taux_max', s=df['depression'])"
   ]
  },
  {
   "cell_type": "code",
   "execution_count": 84,
   "id": "71c79ce7",
   "metadata": {},
   "outputs": [
    {
     "data": {
      "text/plain": [
       "<Axes: xlabel='age', ylabel='taux_max'>"
      ]
     },
     "execution_count": 84,
     "metadata": {},
     "output_type": "execute_result"
    }
   ],
   "source": [
    "# grille à la carte de Kohonen - permet de voir la densité des points ici\n",
    "df.plot.hexbin(x='age', y='taux_max', gridsize=25)"
   ]
  },
  {
   "cell_type": "code",
   "execution_count": 86,
   "id": "90fc8f17",
   "metadata": {},
   "outputs": [
    {
     "data": {
      "text/plain": [
       "<Axes: ylabel='sexe'>"
      ]
     },
     "execution_count": 86,
     "metadata": {},
     "output_type": "execute_result"
    }
   ],
   "source": [
    "# diagramme à secteurs - comptage de sexe\n",
    "df['sexe'].value_counts().plot.pie()"
   ]
  },
  {
   "cell_type": "code",
   "execution_count": 91,
   "id": "7d2ece3f",
   "metadata": {},
   "outputs": [
    {
     "data": {
      "text/plain": [
       "array([[<Axes: xlabel='age', ylabel='age'>,\n",
       "        <Axes: xlabel='pression', ylabel='age'>,\n",
       "        <Axes: xlabel='cholester', ylabel='age'>,\n",
       "        <Axes: xlabel='taux_max', ylabel='age'>,\n",
       "        <Axes: xlabel='depression', ylabel='age'>,\n",
       "        <Axes: xlabel='pic', ylabel='age'>],\n",
       "       [<Axes: xlabel='age', ylabel='pression'>,\n",
       "        <Axes: xlabel='pression', ylabel='pression'>,\n",
       "        <Axes: xlabel='cholester', ylabel='pression'>,\n",
       "        <Axes: xlabel='taux_max', ylabel='pression'>,\n",
       "        <Axes: xlabel='depression', ylabel='pression'>,\n",
       "        <Axes: xlabel='pic', ylabel='pression'>],\n",
       "       [<Axes: xlabel='age', ylabel='cholester'>,\n",
       "        <Axes: xlabel='pression', ylabel='cholester'>,\n",
       "        <Axes: xlabel='cholester', ylabel='cholester'>,\n",
       "        <Axes: xlabel='taux_max', ylabel='cholester'>,\n",
       "        <Axes: xlabel='depression', ylabel='cholester'>,\n",
       "        <Axes: xlabel='pic', ylabel='cholester'>],\n",
       "       [<Axes: xlabel='age', ylabel='taux_max'>,\n",
       "        <Axes: xlabel='pression', ylabel='taux_max'>,\n",
       "        <Axes: xlabel='cholester', ylabel='taux_max'>,\n",
       "        <Axes: xlabel='taux_max', ylabel='taux_max'>,\n",
       "        <Axes: xlabel='depression', ylabel='taux_max'>,\n",
       "        <Axes: xlabel='pic', ylabel='taux_max'>],\n",
       "       [<Axes: xlabel='age', ylabel='depression'>,\n",
       "        <Axes: xlabel='pression', ylabel='depression'>,\n",
       "        <Axes: xlabel='cholester', ylabel='depression'>,\n",
       "        <Axes: xlabel='taux_max', ylabel='depression'>,\n",
       "        <Axes: xlabel='depression', ylabel='depression'>,\n",
       "        <Axes: xlabel='pic', ylabel='depression'>],\n",
       "       [<Axes: xlabel='age', ylabel='pic'>,\n",
       "        <Axes: xlabel='pression', ylabel='pic'>,\n",
       "        <Axes: xlabel='cholester', ylabel='pic'>,\n",
       "        <Axes: xlabel='taux_max', ylabel='pic'>,\n",
       "        <Axes: xlabel='depression', ylabel='pic'>,\n",
       "        <Axes: xlabel='pic', ylabel='pic'>]], dtype=object)"
      ]
     },
     "execution_count": 91,
     "metadata": {},
     "output_type": "execute_result"
    }
   ],
   "source": [
    "# l'équivalent de pairs de R - scatterplot des variables pris deux à deux \n",
    "# cela n'a d'interêt que pour les variables quantitatives bien évidament\n",
    "pandas.plotting.scatter_matrix(df.select_dtypes(exclude=['object']))"
   ]
  },
  {
   "cell_type": "code",
   "execution_count": null,
   "id": "b62009d5",
   "metadata": {},
   "outputs": [],
   "source": []
  }
 ],
 "metadata": {
  "kernelspec": {
   "display_name": "Python 3 (ipykernel)",
   "language": "python",
   "name": "python3"
  },
  "language_info": {
   "codemirror_mode": {
    "name": "ipython",
    "version": 3
   },
   "file_extension": ".py",
   "mimetype": "text/x-python",
   "name": "python",
   "nbconvert_exporter": "python",
   "pygments_lexer": "ipython3",
   "version": "3.9.7"
  }
 },
 "nbformat": 4,
 "nbformat_minor": 5
}
